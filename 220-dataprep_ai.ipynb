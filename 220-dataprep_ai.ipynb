{
 "cells": [
  {
   "cell_type": "markdown",
   "metadata": {},
   "source": [
    "# DATAPREP.AI\n",
    "\n",
    "Since data exploration and preparation is needed for each data engineering project and the same techniques always have to be used, a number of high-level, low-code tools and libraries have emerged in recent years. One of those tools, that can be used for both data exploration and data cleaning, is dataprep.ai. You can install it in your Python environment through `pip install dataprep`."
   ]
  },
  {
   "cell_type": "markdown",
   "metadata": {},
   "source": [
    "## 1. Data exploration"
   ]
  },
  {
   "cell_type": "markdown",
   "metadata": {},
   "source": [
    "With very few code you can generate a complete report to explore your data:"
   ]
  },
  {
   "cell_type": "code",
   "execution_count": null,
   "metadata": {},
   "outputs": [],
   "source": [
    "import pandas as pd\n",
    "from dataprep.eda import create_report"
   ]
  },
  {
   "cell_type": "code",
   "execution_count": null,
   "metadata": {},
   "outputs": [],
   "source": [
    "df = pd.read_csv('datasets/penguins.csv')\n",
    "report = create_report(df)"
   ]
  },
  {
   "cell_type": "code",
   "execution_count": null,
   "metadata": {},
   "outputs": [],
   "source": [
    "report"
   ]
  },
  {
   "cell_type": "code",
   "execution_count": null,
   "metadata": {},
   "outputs": [],
   "source": [
    "report.save('Penguin Report') # save report to local disk\n",
    "report.show_browser() # show report in the browser"
   ]
  },
  {
   "cell_type": "code",
   "execution_count": null,
   "metadata": {},
   "outputs": [],
   "source": [
    "df.info()"
   ]
  },
  {
   "cell_type": "code",
   "execution_count": null,
   "metadata": {},
   "outputs": [],
   "source": [
    "df.head(10)"
   ]
  },
  {
   "cell_type": "markdown",
   "metadata": {},
   "source": [
    "## 2. Data cleaning"
   ]
  },
  {
   "cell_type": "markdown",
   "metadata": {},
   "source": [
    "`dataprep.ai` also offers some functionality for data validation and cleaning. See https://docs.dataprep.ai/user_guide/user_guide.html for the documentation. It can e.g. check for the validity of Belgian VAT or IBAN numbers. "
   ]
  },
  {
   "cell_type": "code",
   "execution_count": null,
   "metadata": {},
   "outputs": [],
   "source": [
    "from dataprep.clean import clean_be_vat\n",
    "btw = pd.DataFrame({\"vat\": ['BE403019261','BE431150351','BE0255647755']})\n",
    "clean_be_vat(btw,'vat')"
   ]
  },
  {
   "cell_type": "markdown",
   "metadata": {},
   "source": [
    "The first and third vat number correspond to the format of Belgian VAT numbers; the second doesn't.  However, it does not check against the existance of a VAT number.  For that, you have to use country-specific tools, if avaible. For Belgian VAT numbers there is an public web service that can be used to check of a number really exists (of course, this has nothing to do with `dataprep.ai`). "
   ]
  },
  {
   "cell_type": "code",
   "execution_count": 5,
   "metadata": {},
   "outputs": [
    {
     "name": "stdout",
     "output_type": "stream",
     "text": [
      "{\"valid\":false,\"countryCode\":\"BE\",\"vatNumber\":\"403019261\",\"name\":null,\"address\":{\"street\":null,\"number\":null,\"zip_code\":null,\"city\":null,\"country\":\"België\",\"countryCode\":\"BE\"},\"strAddress\":null}\n"
     ]
    }
   ],
   "source": [
    "import requests\n",
    "x = requests.get(\"https://controleerbtwnummer.eu/api/validate/BE403019261.json\")\n",
    "print(x.text)"
   ]
  },
  {
   "cell_type": "code",
   "execution_count": null,
   "metadata": {},
   "outputs": [],
   "source": [
    "x = requests.get(\"https://controleerbtwnummer.eu/api/validate/BE0255647755.json\")\n",
    "print(x.text)"
   ]
  },
  {
   "cell_type": "markdown",
   "metadata": {},
   "source": [
    "If the VAT number exists, like in the second example, a JSON object containing the company details is returned."
   ]
  }
 ],
 "metadata": {
  "kernelspec": {
   "display_name": "Python 3",
   "language": "python",
   "name": "python3"
  },
  "language_info": {
   "codemirror_mode": {
    "name": "ipython",
    "version": 3
   },
   "file_extension": ".py",
   "mimetype": "text/x-python",
   "name": "python",
   "nbconvert_exporter": "python",
   "pygments_lexer": "ipython3",
   "version": "3.10.10"
  },
  "orig_nbformat": 4,
  "vscode": {
   "interpreter": {
    "hash": "11938c6bc6919ae2720b4d5011047913343b08a43b18698fd82dedb0d4417594"
   }
  }
 },
 "nbformat": 4,
 "nbformat_minor": 2
}
